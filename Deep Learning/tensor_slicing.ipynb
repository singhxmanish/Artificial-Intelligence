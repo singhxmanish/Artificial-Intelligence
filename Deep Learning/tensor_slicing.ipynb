{
 "cells": [
  {
   "metadata": {},
   "cell_type": "markdown",
   "source": "## Tensor Slicing",
   "id": "1f8289d81ad150a1"
  },
  {
   "cell_type": "code",
   "id": "initial_id",
   "metadata": {
    "collapsed": true,
    "ExecuteTime": {
     "end_time": "2025-09-20T14:38:02.438239Z",
     "start_time": "2025-09-20T14:38:02.423537Z"
    }
   },
   "source": "import torch",
   "outputs": [],
   "execution_count": 9
  },
  {
   "metadata": {
    "ExecuteTime": {
     "end_time": "2025-09-20T14:39:50.780549Z",
     "start_time": "2025-09-20T14:39:50.753909Z"
    }
   },
   "cell_type": "code",
   "source": [
    "tensor = torch.tensor([[1, 2, 3],\n",
    "                       [4, 5, 6],\n",
    "                       [7, 8, 9]])"
   ],
   "id": "270f3be78ba17cc7",
   "outputs": [],
   "execution_count": 13
  },
  {
   "metadata": {
    "ExecuteTime": {
     "end_time": "2025-09-20T14:40:38.239286Z",
     "start_time": "2025-09-20T14:40:38.180554Z"
    }
   },
   "cell_type": "code",
   "source": [
    "# Access a single element ([row,column])\n",
    "print(tensor[0,1])"
   ],
   "id": "17eb33c8e5e16472",
   "outputs": [
    {
     "name": "stdout",
     "output_type": "stream",
     "text": [
      "tensor(2)\n"
     ]
    }
   ],
   "execution_count": 14
  },
  {
   "metadata": {
    "ExecuteTime": {
     "end_time": "2025-09-20T14:45:12.805314Z",
     "start_time": "2025-09-20T14:45:12.756380Z"
    }
   },
   "cell_type": "code",
   "source": [
    "# Slice the second row ([row,:])\n",
    "print(tensor[1,:])"
   ],
   "id": "3b661890e187be9a",
   "outputs": [
    {
     "name": "stdout",
     "output_type": "stream",
     "text": [
      "tensor([4, 5, 6])\n"
     ]
    }
   ],
   "execution_count": 20
  },
  {
   "metadata": {
    "ExecuteTime": {
     "end_time": "2025-09-20T14:49:41.740526Z",
     "start_time": "2025-09-20T14:49:41.710658Z"
    }
   },
   "cell_type": "code",
   "source": [
    "# Slice the second column ([:,column])\n",
    "print(tensor[:,1])"
   ],
   "id": "2ff3cdae05c080e",
   "outputs": [
    {
     "name": "stdout",
     "output_type": "stream",
     "text": [
      "tensor([2, 5, 8])\n"
     ]
    }
   ],
   "execution_count": 23
  },
  {
   "metadata": {
    "ExecuteTime": {
     "end_time": "2025-09-20T14:54:57.647745Z",
     "start_time": "2025-09-20T14:54:57.582095Z"
    }
   },
   "cell_type": "code",
   "source": [
    "# To keep the output as a column vector, use slicing with ranges, e.g., x[:, 2:3] yields a (m,1) column vector\n",
    "print(tensor[:,2:3])"
   ],
   "id": "9eeeab20a0f7e2e1",
   "outputs": [
    {
     "name": "stdout",
     "output_type": "stream",
     "text": [
      "tensor([[3],\n",
      "        [6],\n",
      "        [9]])\n"
     ]
    }
   ],
   "execution_count": 26
  },
  {
   "metadata": {},
   "cell_type": "code",
   "outputs": [],
   "execution_count": null,
   "source": [
    "# To keep the output as a row vector, use slicing with ranges, e.g., x[:, 2:3] yields a (m,1) column vector\n",
    "print(tensor[:,2:3])"
   ],
   "id": "39fa5df7788a48a1"
  },
  {
   "metadata": {
    "ExecuteTime": {
     "end_time": "2025-09-20T15:04:31.457868Z",
     "start_time": "2025-09-20T15:04:31.432900Z"
    }
   },
   "cell_type": "code",
   "source": "tensor2 = torch.tensor([[1, 2, 3,1],[4, 5, 6,1],[7, 8, 9,1],[10, 11, 12,1]])",
   "id": "ce967226ea3845c0",
   "outputs": [],
   "execution_count": 29
  },
  {
   "metadata": {
    "ExecuteTime": {
     "end_time": "2025-09-20T15:04:32.950993Z",
     "start_time": "2025-09-20T15:04:32.927318Z"
    }
   },
   "cell_type": "code",
   "source": "print(tensor2)",
   "id": "a5f1d5a5a28404a4",
   "outputs": [
    {
     "name": "stdout",
     "output_type": "stream",
     "text": [
      "tensor([[ 1,  2,  3,  1],\n",
      "        [ 4,  5,  6,  1],\n",
      "        [ 7,  8,  9,  1],\n",
      "        [10, 11, 12,  1]])\n"
     ]
    }
   ],
   "execution_count": 30
  },
  {
   "metadata": {
    "ExecuteTime": {
     "end_time": "2025-09-20T15:05:52.126028Z",
     "start_time": "2025-09-20T15:05:52.084346Z"
    }
   },
   "cell_type": "code",
   "source": "print(tensor2.shape)",
   "id": "ea538346fa4e97e",
   "outputs": [
    {
     "name": "stdout",
     "output_type": "stream",
     "text": [
      "torch.Size([4, 4])\n"
     ]
    }
   ],
   "execution_count": 31
  },
  {
   "metadata": {
    "ExecuteTime": {
     "end_time": "2025-09-20T15:05:59.722065Z",
     "start_time": "2025-09-20T15:05:59.715936Z"
    }
   },
   "cell_type": "code",
   "source": "print(tensor2.ndim)",
   "id": "77ccae6a9ae6584f",
   "outputs": [
    {
     "name": "stdout",
     "output_type": "stream",
     "text": [
      "2\n"
     ]
    }
   ],
   "execution_count": 32
  },
  {
   "metadata": {
    "ExecuteTime": {
     "end_time": "2025-09-20T15:07:14.766785Z",
     "start_time": "2025-09-20T15:07:14.738519Z"
    }
   },
   "cell_type": "code",
   "source": "print(tensor2[:,2:3])",
   "id": "3fb99a4aa04bfdd7",
   "outputs": [
    {
     "name": "stdout",
     "output_type": "stream",
     "text": [
      "tensor([[ 3],\n",
      "        [ 6],\n",
      "        [ 9],\n",
      "        [12]])\n"
     ]
    }
   ],
   "execution_count": 34
  },
  {
   "metadata": {
    "ExecuteTime": {
     "end_time": "2025-09-20T15:08:03.744282Z",
     "start_time": "2025-09-20T15:08:03.732837Z"
    }
   },
   "cell_type": "code",
   "source": "print(tensor2[2:,:])",
   "id": "99840c2d40009ccc",
   "outputs": [
    {
     "name": "stdout",
     "output_type": "stream",
     "text": [
      "tensor([[ 7,  8,  9,  1],\n",
      "        [10, 11, 12,  1]])\n"
     ]
    }
   ],
   "execution_count": 35
  },
  {
   "metadata": {
    "ExecuteTime": {
     "end_time": "2025-09-20T15:19:41.718719Z",
     "start_time": "2025-09-20T15:19:41.710454Z"
    }
   },
   "cell_type": "code",
   "source": [
    "#Extending slicing to n dimension(dim) - dim_0:,dim_1:,dim_2 :,...din_n\n",
    "# Each dim has format row:,col:,step default step is 1\n",
    "# Example :,2:3:2,:\n",
    "\n"
   ],
   "id": "3907650241bfe65e",
   "outputs": [
    {
     "name": "stdout",
     "output_type": "stream",
     "text": [
      "tensor([], size=(4, 0), dtype=torch.int64)\n"
     ]
    }
   ],
   "execution_count": 42
  },
  {
   "metadata": {},
   "cell_type": "code",
   "outputs": [],
   "execution_count": null,
   "source": "",
   "id": "97ddd4fd22452cde"
  }
 ],
 "metadata": {
  "kernelspec": {
   "display_name": "Python 3",
   "language": "python",
   "name": "python3"
  },
  "language_info": {
   "codemirror_mode": {
    "name": "ipython",
    "version": 2
   },
   "file_extension": ".py",
   "mimetype": "text/x-python",
   "name": "python",
   "nbconvert_exporter": "python",
   "pygments_lexer": "ipython2",
   "version": "2.7.6"
  }
 },
 "nbformat": 4,
 "nbformat_minor": 5
}
