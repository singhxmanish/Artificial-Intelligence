{
 "cells": [
  {
   "metadata": {},
   "cell_type": "markdown",
   "source": "## This notebook demonstrate the python system level commands/programming",
   "id": "2d6ad39f97d2c983"
  },
  {
   "metadata": {},
   "cell_type": "markdown",
   "source": "### 1. File I/O and Directory Management",
   "id": "f0aecee58a3e22e9"
  },
  {
   "metadata": {
    "ExecuteTime": {
     "end_time": "2025-09-27T11:04:27.468163Z",
     "start_time": "2025-09-27T11:04:27.456138Z"
    }
   },
   "cell_type": "code",
   "source": [
    "import os\n",
    "\n",
    "DATA_DIR = 'data'\n",
    "if not os.path.exists(DATA_DIR):\n",
    "    os.mkdir(DATA_DIR)\n",
    "    print('Directory ', DATA_DIR, ' Created ')\n",
    "else:\n",
    "    print('Directory ', DATA_DIR, ' already exists')\n"
   ],
   "id": "b406cc6e995dab9b",
   "outputs": [
    {
     "name": "stdout",
     "output_type": "stream",
     "text": [
      "Directory  data  already exists\n"
     ]
    }
   ],
   "execution_count": 2
  },
  {
   "metadata": {},
   "cell_type": "markdown",
   "source": "### how setting a seed ensures reproducibility, especially when initializing weights.",
   "id": "8131a1e670c8a5ff"
  },
  {
   "metadata": {
    "ExecuteTime": {
     "end_time": "2025-09-27T11:13:21.701452Z",
     "start_time": "2025-09-27T11:13:21.697591Z"
    }
   },
   "cell_type": "code",
   "source": [
    "import numpy as np\n",
    "import random\n",
    "import torch\n",
    "\n",
    "# Example: Create a matrix with a specific shape and type\n",
    "seed_matrix_zeros = torch.zeros(2, 4)\n",
    "print(\"\\nSeed Matrix (Zeros):\")\n",
    "print(seed_matrix_zeros)"
   ],
   "id": "b9ee6746f83e9bcb",
   "outputs": [
    {
     "name": "stdout",
     "output_type": "stream",
     "text": [
      "\n",
      "Seed Matrix (Zeros):\n",
      "tensor([[0., 0., 0., 0.],\n",
      "        [0., 0., 0., 0.]])\n"
     ]
    }
   ],
   "execution_count": 15
  },
  {
   "metadata": {
    "ExecuteTime": {
     "end_time": "2025-09-27T11:13:40.070154Z",
     "start_time": "2025-09-27T11:13:40.061377Z"
    }
   },
   "cell_type": "code",
   "source": [
    "# Example: Create a 3x3 matrix with random values from a normal distribution (mean=0, std=1)\n",
    "seed_matrix_normal = torch.randn(3, 3)\n",
    "print(\"\\nSeed Matrix (Normal):\")\n",
    "print(seed_matrix_normal)"
   ],
   "id": "f00b8ac3624f7b3",
   "outputs": [
    {
     "name": "stdout",
     "output_type": "stream",
     "text": [
      "\n",
      "Seed Matrix (Normal):\n",
      "tensor([[ 1.3525,  0.6863, -0.3278],\n",
      "        [ 0.7950,  0.2815,  0.0562],\n",
      "        [ 0.5227, -0.2384, -0.0499]])\n"
     ]
    }
   ],
   "execution_count": 18
  },
  {
   "metadata": {
    "ExecuteTime": {
     "end_time": "2025-09-27T11:13:58.682079Z",
     "start_time": "2025-09-27T11:13:58.676948Z"
    }
   },
   "cell_type": "code",
   "source": [
    "# 2. Create a matrix (tensor)\n",
    "# Example: Create a 3x3 matrix with random values from a uniform distribution [0, 1)\n",
    "seed_matrix_uniform = torch.rand(3, 3)\n",
    "print(\"Seed Matrix (Uniform):\")\n",
    "print(seed_matrix_uniform)"
   ],
   "id": "2a8a48278170f7b1",
   "outputs": [
    {
     "name": "stdout",
     "output_type": "stream",
     "text": [
      "Seed Matrix (Uniform):\n",
      "tensor([[0.2018, 0.9497, 0.6666],\n",
      "        [0.9811, 0.0874, 0.0041],\n",
      "        [0.1088, 0.1637, 0.7025]])\n"
     ]
    }
   ],
   "execution_count": 20
  },
  {
   "metadata": {},
   "cell_type": "markdown",
   "source": [
    "* torch.manual_seed(seed): Sets the seed for PyTorch's CPU random number generator.\n",
    "* torch.cuda.manual_seed(seed) and torch.cuda.manual_seed_all(seed): Used to set the seed for the GPU if you are using CUDA\n",
    "* torch.rand(shape): Creates a tensor filled with random numbers from a uniform distribution over [0,1]\n",
    "* torch.randn(shape): Creates a tensor filled with random numbers from a standard normal distribution.\n",
    "* Reproducibility: By setting a seed, you ensure that your experiments are reproducible, meaning you can get the exact same results if you re-run the code.\n",
    "\n"
   ],
   "id": "78adefd32babbf40"
  },
  {
   "metadata": {
    "ExecuteTime": {
     "end_time": "2025-09-27T11:34:06.634114Z",
     "start_time": "2025-09-27T11:34:06.628915Z"
    }
   },
   "cell_type": "code",
   "source": [
    "# Set the random seed\n",
    "np.random.seed(0)\n",
    "\n",
    "# Generate a reproducible 2x2 random matrix\n",
    "matrix = np.random.rand(2, 2)\n",
    "\n",
    "print(matrix)\n",
    "\n",
    "## without np.random.seed(0) - np.random.rand(2,2) will produce matrix with differnt randome numbers everytime it is run\n"
   ],
   "id": "7d12cb8b01eae491",
   "outputs": [
    {
     "name": "stdout",
     "output_type": "stream",
     "text": [
      "[[0.5488135  0.71518937]\n",
      " [0.60276338 0.54488318]]\n"
     ]
    }
   ],
   "execution_count": 29
  },
  {
   "metadata": {},
   "cell_type": "code",
   "outputs": [],
   "execution_count": null,
   "source": "",
   "id": "860d2a15d6519aeb"
  }
 ],
 "metadata": {
  "kernelspec": {
   "display_name": "Python 3",
   "language": "python",
   "name": "python3"
  },
  "language_info": {
   "codemirror_mode": {
    "name": "ipython",
    "version": 2
   },
   "file_extension": ".py",
   "mimetype": "text/x-python",
   "name": "python",
   "nbconvert_exporter": "python",
   "pygments_lexer": "ipython2",
   "version": "2.7.6"
  }
 },
 "nbformat": 4,
 "nbformat_minor": 5
}
