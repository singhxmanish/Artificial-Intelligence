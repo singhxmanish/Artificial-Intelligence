{
 "cells": [
  {
   "metadata": {},
   "cell_type": "markdown",
   "source": [
    "Problem Statement:\n",
    "You are given a list of numbers representing the \"age\" feature of a dataset of customers. Your task is to use a for loop to iterate through this list and calculate the sum, minimum, and maximum age values. Finally, print the results."
   ],
   "id": "26289b946a96259f"
  },
  {
   "cell_type": "code",
   "id": "initial_id",
   "metadata": {
    "collapsed": true,
    "ExecuteTime": {
     "end_time": "2025-09-21T17:38:29.008054Z",
     "start_time": "2025-09-21T17:38:29.001443Z"
    }
   },
   "source": [
    "from torch.ao.ns.fx.n_shadows_utils import create_one_transformed_and_logged_copy_of_subgraph\n",
    "\n",
    "age_list = [10,50,30,25,60,90]\n",
    "sum_age = 0\n",
    "max_age = float('-inf')\n",
    "min_age = float('inf')\n",
    "for age in age_list:\n",
    "    sum_age+=age\n",
    "    if age > max_age:\n",
    "        max_age = age\n",
    "    if age < min_age:\n",
    "        min_age = age\n",
    "\n",
    "\n",
    "print(sum_age)\n",
    "print(max_age)\n",
    "print(min_age)"
   ],
   "outputs": [
    {
     "name": "stdout",
     "output_type": "stream",
     "text": [
      "265\n",
      "90\n",
      "10\n"
     ]
    }
   ],
   "execution_count": 9
  },
  {
   "metadata": {},
   "cell_type": "markdown",
   "source": [
    "Problem Statement:\n",
    "You have a list of raw sensor readings. Due to sensor limitations, any reading below 0.5 is considered noise and should be set to 0. Also, any reading above 10.0 should be capped at 10.0. Use a for loop to create a new, \"cleaned\" list of readings."
   ],
   "id": "6acdeae8bb693d58"
  },
  {
   "metadata": {
    "ExecuteTime": {
     "end_time": "2025-09-21T17:49:18.093655Z",
     "start_time": "2025-09-21T17:49:18.087521Z"
    }
   },
   "cell_type": "code",
   "source": [
    "raw_readings = [0.1,20.2,7.0,3.5,7.9,88.0]\n",
    "cleaned_readings = []\n",
    "for readings in raw_readings:\n",
    "    if readings > 10.0:\n",
    "        readings = 10.0\n",
    "        cleaned_readings.append(readings)\n",
    "    elif readings < 0.5:\n",
    "        readings = 0.0\n",
    "        cleaned_readings.append(readings)\n",
    "    else:\n",
    "        cleaned_readings.append(readings)\n",
    "\n",
    "print(cleaned_readings)\n"
   ],
   "id": "675457a98426779f",
   "outputs": [
    {
     "name": "stdout",
     "output_type": "stream",
     "text": [
      "[0.0, 10.0, 7.0, 3.5, 7.9, 10.0]\n"
     ]
    }
   ],
   "execution_count": 14
  },
  {
   "metadata": {},
   "cell_type": "markdown",
   "source": [
    "Problem Statement:\n",
    "You are given a list of strings representing the \"label\" for each data point in a classification dataset. Write a program that counts the number of times each label appears and stores the result in a dictionary."
   ],
   "id": "92830277ed375c4d"
  },
  {
   "metadata": {
    "ExecuteTime": {
     "end_time": "2025-09-21T18:16:12.094077Z",
     "start_time": "2025-09-21T18:16:12.089125Z"
    }
   },
   "cell_type": "code",
   "source": [
    "labels = ['dog', 'cat', 'dog', 'fish', 'cat', 'dog', 'dog', 'fish','bull']\n",
    "dict_count = {}\n",
    "for readings in labels:\n",
    "    dict_count[readings] = dict_count.get(readings, 0) + 1\n",
    "print(dict_count)\n",
    "\n",
    "# dict.get() is effircent way of doing it\n"
   ],
   "id": "4936f9c048fb3354",
   "outputs": [
    {
     "name": "stdout",
     "output_type": "stream",
     "text": [
      "{'dog': 4, 'cat': 2, 'fish': 2, 'bull': 1}\n"
     ]
    }
   ],
   "execution_count": 18
  },
  {
   "metadata": {},
   "cell_type": "markdown",
   "source": [
    "Problem Statement:\n",
    "Write a program that simulates a training loop. The training process involves a set number of \"epochs\" (full passes over the data), and each epoch consists of several \"batches\" of data. Use nested for loops to print a message for each epoch and each batch."
   ],
   "id": "1a5a24f663ed2a7f"
  },
  {
   "metadata": {
    "ExecuteTime": {
     "end_time": "2025-09-23T04:47:34.270440Z",
     "start_time": "2025-09-23T04:47:34.264847Z"
    }
   },
   "cell_type": "code",
   "source": [
    "num_epochs = 3\n",
    "num_batches_per_epoch = 5\n",
    "\n",
    "for epoch in range(num_epochs):\n",
    "    print('epoch', epoch)\n",
    "    for batch in range(num_batches_per_epoch):\n",
    "        print('     batch', batch)"
   ],
   "id": "7d98d36cab8264b9",
   "outputs": [
    {
     "name": "stdout",
     "output_type": "stream",
     "text": [
      "epoch 0\n",
      "     batch 0\n",
      "     batch 1\n",
      "     batch 2\n",
      "     batch 3\n",
      "     batch 4\n",
      "epoch 1\n",
      "     batch 0\n",
      "     batch 1\n",
      "     batch 2\n",
      "     batch 3\n",
      "     batch 4\n",
      "epoch 2\n",
      "     batch 0\n",
      "     batch 1\n",
      "     batch 2\n",
      "     batch 3\n",
      "     batch 4\n"
     ]
    }
   ],
   "execution_count": 23
  },
  {
   "metadata": {
    "ExecuteTime": {
     "end_time": "2025-09-23T16:20:07.260791Z",
     "start_time": "2025-09-23T16:20:07.249940Z"
    }
   },
   "cell_type": "code",
   "source": [
    "# Navigating a matrix/tensor\n",
    "\n",
    "matrix = [[1,2,3],[4,5,6]]\n",
    "rows = 2\n",
    "cols = 3\n",
    "for row in range(rows):\n",
    "    for col in range(cols):\n",
    "        if matrix[row][col] == 2:\n",
    "            print(matrix[row][col])"
   ],
   "id": "f57dab6331d00715",
   "outputs": [
    {
     "name": "stdout",
     "output_type": "stream",
     "text": [
      "2\n"
     ]
    }
   ],
   "execution_count": 30
  }
 ],
 "metadata": {
  "kernelspec": {
   "display_name": "Python 3",
   "language": "python",
   "name": "python3"
  },
  "language_info": {
   "codemirror_mode": {
    "name": "ipython",
    "version": 2
   },
   "file_extension": ".py",
   "mimetype": "text/x-python",
   "name": "python",
   "nbconvert_exporter": "python",
   "pygments_lexer": "ipython2",
   "version": "2.7.6"
  }
 },
 "nbformat": 4,
 "nbformat_minor": 5
}
