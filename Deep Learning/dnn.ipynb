{
 "cells": [
  {
   "cell_type": "code",
   "id": "initial_id",
   "metadata": {
    "collapsed": true,
    "ExecuteTime": {
     "end_time": "2025-09-23T16:41:29.684938Z",
     "start_time": "2025-09-23T16:41:29.603422Z"
    }
   },
   "source": [
    "import numpy as np\n",
    "\n",
    "class SimpleNeuralNetwork:\n",
    "    def __init__(self, W_h, b_h, W_o, b_o):\n",
    "        # Weights and biases for hidden and output layers\n",
    "        self.W_h = W_h\n",
    "        self.b_h = b_h\n",
    "        self.W_o = W_o\n",
    "        self.b_o = b_o\n",
    "\n",
    "    def sigmoid(self, z):\n",
    "        return 1 / (1 + np.exp(-z))\n",
    "\n",
    "    def forward_pass(self, x):\n",
    "        # Hidden layer\n",
    "        z_h = np.dot(self.W_h, x) + self.b_h\n",
    "        h = self.sigmoid(z_h)\n",
    "\n",
    "        # Output layer\n",
    "        z_o = np.dot(self.W_o, h) + self.b_o\n",
    "        o = self.sigmoid(z_o)\n",
    "\n",
    "        return o\n",
    "\n",
    "# Example Usage\n",
    "# Input vector\n",
    "x = np.array([0.5, 0.8])\n",
    "# Weights and biases initialized\n",
    "W_h = np.array([[0.1, 0.2], [0.3, 0.4]])\n",
    "b_h = np.array([0.5, 0.6])\n",
    "W_o = np.array([0.7, 0.8])\n",
    "b_o = np.array([0.9])\n",
    "\n",
    "# Create an instance and perform a forward pass\n",
    "nn = SimpleNeuralNetwork(W_h, b_h, W_o, b_o)\n",
    "prediction = nn.forward_pass(x)\n",
    "print(f\"The network's prediction is: {prediction}\")"
   ],
   "outputs": [
    {
     "name": "stdout",
     "output_type": "stream",
     "text": [
      "The network's prediction is: [0.87706856]\n"
     ]
    }
   ],
   "execution_count": 1
  },
  {
   "metadata": {},
   "cell_type": "code",
   "outputs": [],
   "execution_count": null,
   "source": "",
   "id": "e000ab160d19bf40"
  }
 ],
 "metadata": {
  "kernelspec": {
   "display_name": "Python 3",
   "language": "python",
   "name": "python3"
  },
  "language_info": {
   "codemirror_mode": {
    "name": "ipython",
    "version": 2
   },
   "file_extension": ".py",
   "mimetype": "text/x-python",
   "name": "python",
   "nbconvert_exporter": "python",
   "pygments_lexer": "ipython2",
   "version": "2.7.6"
  }
 },
 "nbformat": 4,
 "nbformat_minor": 5
}
